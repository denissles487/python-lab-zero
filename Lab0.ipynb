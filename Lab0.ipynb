{
 "cells": [
  {
   "cell_type": "code",
   "execution_count": 2,
   "id": "bf7e40c0",
   "metadata": {},
   "outputs": [],
   "source": [
    "N = ord(\"D\") % 10 + 1 # Denis"
   ]
  },
  {
   "cell_type": "code",
   "execution_count": 3,
   "id": "3a703bae",
   "metadata": {},
   "outputs": [
    {
     "data": {
      "text/plain": [
       "9"
      ]
     },
     "execution_count": 3,
     "metadata": {},
     "output_type": "execute_result"
    }
   ],
   "source": [
    "N"
   ]
  },
  {
   "cell_type": "markdown",
   "id": "59ebe949",
   "metadata": {},
   "source": [
    "**Країна:** Чеська республіка"
   ]
  },
  {
   "cell_type": "markdown",
   "id": "e77d356e",
   "metadata": {},
   "source": [
    "**Завдання:** У введеному списку залишити тільки непрості числа і відсортувати їх за зменшенням"
   ]
  },
  {
   "cell_type": "markdown",
   "id": "ee01c325",
   "metadata": {},
   "source": [
    "# Чеська Республіка\n",
    "\n",
    "Чеська Республіка — країна в Центральній Європі, яка славиться своєю багатою історією, архітектурними пам’ятками та унікальними культурними традиціями.\n",
    "\n",
    "<div style=\"border: 2px solid black; padding: 10px;\">\n",
    "<strong>Основні факти про Чеську Республіку:</strong>\n",
    "<ul>\n",
    "    <li>Площа: 78,867 км<sup>2</sup></li>\n",
    "    <li>Населення: близько <span style=\"color: green;\">10.7 мільйона</span> осіб</li>\n",
    "    <li>Державний устрій: <em>парламентська республіка</em></li>\n",
    "</ul>\n",
    "</div>\n",
    "\n",
    "## Видатні персоналії\n",
    "1. **Франц Кафка** – всесвітньо відомий письменник.\n",
    "2. **Антонін Дворжак** – композитор, автор симфоній та камерної музики.\n",
    "3. **Ян Гус** – релігійний реформатор і один із провісників Реформації.\n",
    "\n",
    "## Пам'ятки культури та природи\n",
    "### Основні культурні пам'ятки\n",
    "- **Празький Град** — найбільший замковий комплекс у світі та символ Праги.\n",
    "- **Чеський Крумлов** — середньовічне містечко, включене до списку світової спадщини ЮНЕСКО.\n",
    "\n",
    "### Природні чудеса\n",
    "- **Скелі Адршпах** — унікальні піщані формації, популярне місце для мандрівників.\n",
    "- **Карлштейн** — мальовничий замок у передгір’ях Чехії.\n",
    "\n",
    "## Інформація в таблицях\n",
    "\n",
    "| Параметр            | Значення                      |\n",
    "|---------------------|--------------------------------|\n",
    "| Столиця             | Прага                          |\n",
    "| Офіційна мова       | Чеська                         |\n",
    "| Валюта              | Чеська крона (CZK)             |\n",
    "| Членство в організаціях | ЄС, НАТО, ООН               |\n",
    "\n",
    "## Гіперпосилання\n",
    "Більше про Чеську Республіку можна прочитати на [офіційному туристичному сайті Чехії](https://www.visitczechrepublic.com/).\n",
    "\n",
    "**Чеська Республіка** — ідеальне місце для любителів історії, архітектури та природної краси, що робить її популярним туристичним напрямком у Європі."
   ]
  },
  {
   "cell_type": "markdown",
   "id": "0ff06881",
   "metadata": {},
   "source": [
    "## Малюнок флагу Норвегії за допомогою SVG"
   ]
  },
  {
   "cell_type": "code",
   "execution_count": 1,
   "id": "961fd705",
   "metadata": {},
   "outputs": [
    {
     "data": {
      "text/html": [
       "\n",
       "<svg width=\"300\" height=\"200\">\n",
       "    <!-- Білий верх -->\n",
       "    <rect width=\"300\" height=\"100\" fill=\"white\" />\n",
       "    <!-- Червоний низ -->\n",
       "    <rect y=\"100\" width=\"300\" height=\"100\" fill=\"red\" />\n",
       "    <!-- Синій трикутник -->\n",
       "    <polygon points=\"0,0 0,200 150,100\" fill=\"blue\" />\n",
       "</svg>\n"
      ],
      "text/plain": [
       "<IPython.core.display.HTML object>"
      ]
     },
     "metadata": {},
     "output_type": "display_data"
    }
   ],
   "source": [
    "from IPython.display import display, HTML\n",
    "\n",
    "svg_code_czech = \"\"\"\n",
    "<svg width=\"300\" height=\"200\">\n",
    "    <!-- Білий верх -->\n",
    "    <rect width=\"300\" height=\"100\" fill=\"white\" />\n",
    "    <!-- Червоний низ -->\n",
    "    <rect y=\"100\" width=\"300\" height=\"100\" fill=\"red\" />\n",
    "    <!-- Синій трикутник -->\n",
    "    <polygon points=\"0,0 0,200 150,100\" fill=\"blue\" />\n",
    "</svg>\n",
    "\"\"\"\n",
    "\n",
    "display(HTML(svg_code_czech))"
   ]
  },
  {
   "cell_type": "code",
   "execution_count": 10,
   "id": "e4cebf75",
   "metadata": {},
   "outputs": [],
   "source": [
    "def task_9():\n",
    "    nums = list(map(int, input(\"Enter numbers separated by space: \").split()))\n",
    "    \n",
    "    def is_prime(n):\n",
    "        \"\"\"Перевіряє, чи є число простим.\"\"\"\n",
    "        if n < 2:\n",
    "            return False\n",
    "        for i in range(2, int(n**0.5) + 1):\n",
    "            if n % i == 0:\n",
    "                return False\n",
    "        return True\n",
    "\n",
    "    non_prime_numbers = [num for num in nums if num > 1 and not is_prime(num)]\n",
    "    non_prime_numbers.sort(reverse=True)\n",
    "    print(non_prime_numbers)"
   ]
  },
  {
   "cell_type": "code",
   "execution_count": 9,
   "id": "3027b8d8",
   "metadata": {},
   "outputs": [
    {
     "name": "stdout",
     "output_type": "stream",
     "text": [
      "Enter numbers separated by space: 3 12 15 7 11 35 18\n",
      "[35, 18, 15, 12]\n"
     ]
    }
   ],
   "source": [
    "task_9()"
   ]
  },
  {
   "cell_type": "code",
   "execution_count": 8,
   "id": "e017287a",
   "metadata": {},
   "outputs": [
    {
     "name": "stdout",
     "output_type": "stream",
     "text": [
      "Enter numbers separated by space: 0 34 2 1 15 22 4 23 6\n",
      "[34, 22, 15, 6, 4]\n"
     ]
    }
   ],
   "source": [
    "task_9()"
   ]
  }
 ],
 "metadata": {
  "kernelspec": {
   "display_name": "Python 3 (ipykernel)",
   "language": "python",
   "name": "python3"
  },
  "language_info": {
   "codemirror_mode": {
    "name": "ipython",
    "version": 3
   },
   "file_extension": ".py",
   "mimetype": "text/x-python",
   "name": "python",
   "nbconvert_exporter": "python",
   "pygments_lexer": "ipython3",
   "version": "3.11.5"
  }
 },
 "nbformat": 4,
 "nbformat_minor": 5
}
